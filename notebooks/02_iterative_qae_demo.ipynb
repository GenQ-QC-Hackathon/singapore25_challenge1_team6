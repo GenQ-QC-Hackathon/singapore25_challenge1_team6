{
 "cells": [
  {
   "cell_type": "markdown",
   "metadata": {},
   "source": [
    "# Iterative Quantum Amplitude Estimation Demo\n",
    "\n",
    "**Team QHackers** | GenQ Hackathon 2025\n",
    "\n",
    "Demonstrates:\n",
    "1. Distribution encoding in quantum states\n",
    "2. Threshold oracle for CDF estimation\n",
    "3. Binary search for α-quantile (PFE)\n",
    "4. Discretization tradeoffs"
   ]
  },
  {
   "cell_type": "code",
   "execution_count": null,
   "metadata": {},
   "outputs": [],
   "source": [
    "import sys\n",
    "sys.path.append('../backend')\n",
    "\n",
    "import numpy as np\n",
    "import matplotlib.pyplot as plt\n",
    "from qiskit import QuantumCircuit\n",
    "from qiskit_aer import AerSimulator\n",
    "from scipy.stats import norm\n",
    "\n",
    "from app.services.quantum_qae import (\n",
    "    discretize_normal_distribution,\n",
    "    create_state_preparation_circuit,\n",
    "    create_threshold_oracle,\n",
    "    compute_pfe_quantum\n",
    ")\n",
    "\n",
    "plt.rcParams['figure.figsize'] = (12, 6)\n",
    "SEED = 42"
   ]
  },
  {
   "cell_type": "markdown",
   "metadata": {},
   "source": [
    "## 1. Discretize Distribution\n",
    "\n",
    "Encode continuous distribution into discrete bins for quantum encoding."
   ]
  },
  {
   "cell_type": "code",
   "execution_count": null,
   "metadata": {},
   "outputs": [],
   "source": [
    "# Example: Discretize normal distribution\n",
    "num_qubits = 5\n",
    "num_bins = 2 ** num_qubits\n",
    "\n",
    "mu = 5.0\n",
    "sigma = 2.0\n",
    "\n",
    "bin_centers, probabilities = discretize_normal_distribution(\n",
    "    mu=mu, sigma=sigma, num_bins=num_bins, num_std=3.0\n",
    ")\n",
    "\n",
    "# Plot\n",
    "fig, (ax1, ax2) = plt.subplots(1, 2, figsize=(14, 5))\n",
    "\n",
    "ax1.bar(bin_centers, probabilities, width=(bin_centers[1]-bin_centers[0])*0.9, alpha=0.7)\n",
    "x = np.linspace(mu-3*sigma, mu+3*sigma, 100)\n",
    "ax1.plot(x, norm.pdf(x, mu, sigma), 'r--', linewidth=2, label='Continuous')\n",
    "ax1.set_title(f'Discretized Distribution ({num_bins} bins)', fontweight='bold')\n",
    "ax1.set_xlabel('Value')\n",
    "ax1.set_ylabel('Probability Density')\n",
    "ax1.legend()\n",
    "ax1.grid(alpha=0.3)\n",
    "\n",
    "# CDF\n",
    "cdf = np.cumsum(probabilities)\n",
    "ax2.step(bin_centers, cdf, where='mid', linewidth=2)\n",
    "ax2.axhline(0.95, color='red', linestyle='--', label='α=0.95')\n",
    "ax2.set_title('Cumulative Distribution', fontweight='bold')\n",
    "ax2.set_xlabel('Value')\n",
    "ax2.set_ylabel('P(X ≤ x)')\n",
    "ax2.legend()\n",
    "ax2.grid(alpha=0.3)\n",
    "\n",
    "plt.tight_layout()\n",
    "plt.show()\n",
    "\n",
    "print(f\"Number of qubits: {num_qubits}\")\n",
    "print(f\"Number of bins: {num_bins}\")\n",
    "print(f\"Bin width: {bin_centers[1] - bin_centers[0]:.3f}\")"
   ]
  },
  {
   "cell_type": "markdown",
   "metadata": {},
   "source": [
    "## 2. Quantum State Preparation\n",
    "\n",
    "Create |ψ⟩ = Σ √p_i |i⟩"
   ]
  },
  {
   "cell_type": "code",
   "execution_count": null,
   "metadata": {},
   "outputs": [],
   "source": [
    "# Create state preparation circuit\n",
    "state_prep = create_state_preparation_circuit(probabilities, num_qubits)\n",
    "print(f\"State preparation circuit depth: {state_prep.depth()}\")\n",
    "print(f\"Number of gates: {len(state_prep)}\")\n",
    "state_prep.draw('mpl')"
   ]
  },
  {
   "cell_type": "markdown",
   "metadata": {},
   "source": [
    "## 3. Threshold Oracle\n",
    "\n",
    "Marks states where value ≤ threshold"
   ]
  },
  {
   "cell_type": "code",
   "execution_count": null,
   "metadata": {},
   "outputs": [],
   "source": [
    "# Create threshold oracle for median\n",
    "threshold = mu\n",
    "oracle = create_threshold_oracle(bin_centers, threshold, num_qubits)\n",
    "print(f\"Oracle circuit depth: {oracle.depth()}\")\n",
    "print(f\"Number of gates: {len(oracle)}\")"
   ]
  },
  {
   "cell_type": "markdown",
   "metadata": {},
   "source": [
    "## 4. Full Quantum PFE Calculation"
   ]
  },
  {
   "cell_type": "code",
   "execution_count": null,
   "metadata": {},
   "outputs": [],
   "source": [
    "# Portfolio parameters\n",
    "result = compute_pfe_quantum(\n",
    "    w1=0.5, w2=0.5,\n",
    "    strike=100.0,\n",
    "    s0=100.0,\n",
    "    mu=0.05,\n",
    "    sigma=0.2,\n",
    "    tau=1.0,\n",
    "    num_qubits=5,\n",
    "    ae_iterations=6,\n",
    "    alpha=0.95,\n",
    "    seed=SEED\n",
    ")\n",
    "\n",
    "print(\"\\nQuantum PFE Results:\")\n",
    "print(f\"  PFE: {result['pfe']:.2f}\")\n",
    "print(f\"  Expected Exposure: {result['expected_exposure']:.2f}\")\n",
    "print(f\"  Qubits: {result['num_qubits']}\")\n",
    "print(f\"  Discretization bins: {result['discretization_bins']}\")\n",
    "print(f\"  Runtime: {result['runtime_ms']:.1f} ms\")"
   ]
  },
  {
   "cell_type": "markdown",
   "metadata": {},
   "source": [
    "## 5. Discretization Tradeoff Analysis"
   ]
  },
  {
   "cell_type": "code",
   "execution_count": null,
   "metadata": {},
   "outputs": [],
   "source": [
    "# Test different qubit counts\n",
    "qubit_range = [3, 4, 5, 6, 7]\n",
    "pfe_results = []\n",
    "runtimes = []\n",
    "\n",
    "for q in qubit_range:\n",
    "    res = compute_pfe_quantum(\n",
    "        w1=0.5, w2=0.5, strike=100.0, s0=100.0,\n",
    "        mu=0.05, sigma=0.2, tau=1.0,\n",
    "        num_qubits=q, ae_iterations=6,\n",
    "        alpha=0.95, seed=SEED\n",
    "    )\n",
    "    pfe_results.append(res['pfe'])\n",
    "    runtimes.append(res['runtime_ms'])\n",
    "\n",
    "fig, (ax1, ax2) = plt.subplots(1, 2, figsize=(14, 5))\n",
    "\n",
    "ax1.plot(qubit_range, pfe_results, 'o-', linewidth=2, markersize=8)\n",
    "ax1.set_xlabel('Number of Qubits', fontsize=12)\n",
    "ax1.set_ylabel('PFE Estimate', fontsize=12)\n",
    "ax1.set_title('PFE vs Discretization', fontweight='bold')\n",
    "ax1.grid(alpha=0.3)\n",
    "\n",
    "ax2.plot(qubit_range, runtimes, 'o-', linewidth=2, markersize=8, color='green')\n",
    "ax2.set_xlabel('Number of Qubits', fontsize=12)\n",
    "ax2.set_ylabel('Runtime (ms)', fontsize=12)\n",
    "ax2.set_title('Computational Cost', fontweight='bold')\n",
    "ax2.grid(alpha=0.3)\n",
    "\n",
    "plt.tight_layout()\n",
    "plt.show()"
   ]
  },
  {
   "cell_type": "markdown",
   "metadata": {},
   "source": [
    "## Summary\n",
    "\n",
    "Key insights:\n",
    "1. **Discretization** is necessary to encode continuous distributions\n",
    "2. **Binary search** with threshold oracle finds quantiles efficiently  \n",
    "3. **Tradeoff**: More qubits = better accuracy but higher circuit complexity\n",
    "4. **Advantage**: Quantum converges as O(1/N) vs classical O(1/√N)"
   ]
  }
 ],
 "metadata": {
  "kernelspec": {
   "display_name": "Python 3",
   "language": "python",
   "name": "python3"
  },
  "language_info": {
   "name": "python",
   "version": "3.11.0"
  }
 },
 "nbformat": 4,
 "nbformat_minor": 4
}
